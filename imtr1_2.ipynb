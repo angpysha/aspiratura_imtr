{
 "cells": [
  {
   "cell_type": "markdown",
   "metadata": {
    "pycharm": {
     "name": "#%% md\n"
    }
   },
   "source": [
    "# ІМТР - частина 1.2\n",
    "Петровського Андрія Анатолійовича (РТ-01ф)"
   ]
  },
  {
   "cell_type": "markdown",
   "metadata": {
    "pycharm": {
     "name": "#%% md\n"
    }
   },
   "source": [
    "#### 2. Виконати узгодження розмірностей величин в системі СІ (еВ, Дж, нм).\n",
    "$  V = 0.2 еВ = 0.2 \\cdot 1.602176565 \\cdot 10^{-19} Дж = 3.20435313 \\cdot 10^{-20} $\n",
    "<br/>\n",
    "$ V = 0.2 еВ = 0.2 \\cdot 1.78266184 \\cdot 10^{-36} = 3.5653236800000002 \\cdot 10^{-37} $\n",
    "<br/>\n",
    "$ a = b = 2 нм = 2 \\cdot 10^{-9} м $\n",
    "<br/>\n"
   ]
  },
  {
   "cell_type": "markdown",
   "metadata": {
    "pycharm": {
     "name": "#%% md\n"
    }
   },
   "source": [
    "#### 3. На основі формул (1) - (5) розробити програму для аналізу залежностей коефіціентів відбиття та проходження квантово-механічних бар’єра та ями від енергії з побудовою графіків залежностей."
   ]
  },
  {
   "cell_type": "code",
   "execution_count": 389,
   "metadata": {
    "pycharm": {
     "name": "#%%\n"
    }
   },
   "outputs": [],
   "source": [
    "import math\n",
    "\n",
    "import numpy as np\n",
    "h = 6.62606957 * 10**-34\n",
    "me = 9.10938291 * 10**-31\n",
    "e = 1.602176565 * 10**-19\n",
    "Vb = 0.2\n",
    "Vy = -0.2\n",
    "hh = h/(2*np.pi)\n",
    "a = 2 * np.exp(-9)\n",
    "Vdz = Vb * 1.602176565*10**-19\n",
    "Vkg = Vb * 1.78266184 * 10**-36"
   ]
  },
  {
   "cell_type": "markdown",
   "metadata": {
    "pycharm": {
     "name": "#%% md\n"
    }
   },
   "source": [
    "Створимо функцію для знаходження нормованого імпедансу:\n",
    "$$ Z = \\sqrt{\\frac{(E-V)m^{'}}{Em}} $$\n",
    "Оскільки за умовою в нас $ m = m^{'} = m_{a,b} = m_{0} $, то вираз набуває вигляду:\n",
    "$$ Z = \\sqrt{\\frac{(E-V)}{E}} $$\n",
    "Запишемо його за допомогою функції Python:"
   ]
  },
  {
   "cell_type": "code",
   "execution_count": 390,
   "metadata": {
    "pycharm": {
     "name": "#%%\n"
    }
   },
   "outputs": [],
   "source": [
    "def z(E,V):\n",
    "    return np.sqrt((E-V)/E+0j)"
   ]
  },
  {
   "cell_type": "markdown",
   "metadata": {
    "pycharm": {
     "name": "#%% md\n"
    }
   },
   "source": [
    "Запишемо функцію для знаходження хвильового числа:\n",
    "$$ k = \\frac{\\sqrt{2m(E-V)}}{ħ} $$\n",
    "Опишемо за допомогою програмного коду:"
   ]
  },
  {
   "cell_type": "code",
   "execution_count": 391,
   "metadata": {
    "pycharm": {
     "name": "#%%\n"
    }
   },
   "outputs": [],
   "source": [
    "def k(E,V):\n",
    "    return np.sqrt(e*2*me*(E-V)+0j)/hh"
   ]
  },
  {
   "cell_type": "markdown",
   "metadata": {
    "pycharm": {
     "name": "#%% md\n"
    }
   },
   "source": [
    "Запишемо функцію для визначення тангенса фазової довжини неоднорідності згідно з умови:\n",
    "$$ \\varphi = kl = ka = kb = \\frac{\\sqrt{2m(E-V)}}{ħ}\\cdot a = \\frac{\\sqrt{2m(E-V)}}{ħ}\\cdot b $$\n"
   ]
  },
  {
   "cell_type": "code",
   "execution_count": 392,
   "metadata": {
    "pycharm": {
     "name": "#%%\n"
    }
   },
   "outputs": [],
   "source": [
    "def tt(E,V):\n",
    "    return np.tan(k(E,V) * a)"
   ]
  },
  {
   "cell_type": "markdown",
   "metadata": {
    "pycharm": {
     "name": "#%% md\n"
    }
   },
   "source": [
    "Задамо функцію для визначення нормованого вхідного імпедансу квантово-механічних бар’єра та ями, замінивши знак \"+\" на \"-\" згідно з вимогами\n",
    "$$ z_{i} = \\frac{1-iztg\\varphi }{1-iz^{-1}tg\\varphi} = \\frac{1 - Z(E)tg(k(E)\\cdot a))}{1 - Z(E)^{-1}tg(k(E)\\cdot a))} $$"
   ]
  },
  {
   "cell_type": "code",
   "execution_count": 393,
   "metadata": {
    "pycharm": {
     "name": "#%%\n"
    }
   },
   "outputs": [],
   "source": [
    "def zi(E,V):\n",
    "    return complex(1,-z(E,V)*tt(E,V))/complex(1,-(z(E,V)**(-1)) * tt(E,V))"
   ]
  },
  {
   "cell_type": "markdown",
   "metadata": {
    "pycharm": {
     "name": "#%% md\n"
    }
   },
   "source": [
    "Також опишемо за допомогою коду функції для знаходження коефіцієнтів відбиття та проходження\n",
    "$$ R = \\frac{1-z_{i}}{1+z_{i}} $$\n",
    "та <br/>\n",
    "$$ T = \\sqrt{1-\\left | R \\right |^{2}} $$\n"
   ]
  },
  {
   "cell_type": "code",
   "execution_count": 394,
   "metadata": {
    "pycharm": {
     "name": "#%%\n"
    }
   },
   "outputs": [],
   "source": [
    "def R(E,V):\n",
    "    return (1-zi(E,V))/(1+zi(E,V))"
   ]
  },
  {
   "cell_type": "code",
   "execution_count": 395,
   "metadata": {
    "pycharm": {
     "name": "#%%\n"
    }
   },
   "outputs": [],
   "source": [
    "def T(E,V):\n",
    "    return np.sqrt(1-abs(R(E,V))**2)"
   ]
  },
  {
   "cell_type": "code",
   "execution_count": 396,
   "metadata": {
    "pycharm": {
     "name": "#%%\n"
    }
   },
   "outputs": [],
   "source": [
    "ff = np.arange(0.001,2,0.03)"
   ]
  },
  {
   "cell_type": "code",
   "execution_count": 397,
   "metadata": {
    "pycharm": {
     "name": "#%%\n"
    }
   },
   "outputs": [],
   "source": [
    "Rvec = np.vectorize(R)\n",
    "Tvec = np.vectorize(T)"
   ]
  },
  {
   "cell_type": "code",
   "execution_count": 398,
   "metadata": {
    "pycharm": {
     "name": "#%%\n"
    }
   },
   "outputs": [],
   "source": [
    "Rvals = np.abs(Rvec(ff,Vb))\n",
    "Tvals = Tvec(ff,Vb)\n",
    "\n",
    "Ryvals = np.abs(Rvec(ff,Vy))\n",
    "Tyvals = Tvec(ff,Vy)"
   ]
  },
  {
   "cell_type": "markdown",
   "metadata": {
    "pycharm": {
     "name": "#%% md\n"
    }
   },
   "source": [
    "Побудуємо графіки коефіцієнтів відбиття та проходження для барʼєру та ями"
   ]
  },
  {
   "cell_type": "code",
   "execution_count": 399,
   "metadata": {
    "pycharm": {
     "name": "#%%\n"
    }
   },
   "outputs": [
    {
     "data": {
      "text/plain": "<Figure size 432x288 with 2 Axes>",
      "image/png": "[encoded data removed]"
     },
     "metadata": {
      "needs_background": "light"
     },
     "output_type": "display_data"
    }
   ],
   "source": [
    "import matplotlib.pyplot as plt\n",
    "fig, (ax1,ax2) = plt.subplots(2)\n",
    "# fig = plt.figure()\n",
    "# ax = plt.subplot(111)\n",
    "#\n",
    "plt.grid(True)\n",
    "\n",
    "ax1.plot(ff, Rvals, label='коеф. відбиття барʼєру')\n",
    "ax1.plot(ff, Tvals, label='коеф. проходження барʼєру')\n",
    "ax1.legend()\n",
    "ax1.grid()\n",
    "ax1.set_xlabel('E')\n",
    "ax1.set_ylabel('Барʼєр')\n",
    "ax2.plot(ff, Ryvals, label='коеф. відбиття ями')\n",
    "ax2.plot(ff, Tyvals, label='коеф. проходження ями')\n",
    "ax2.legend()\n",
    "ax2.set_xlabel('E')\n",
    "ax2.set_ylabel('Яма')\n",
    "plt.grid(True)\n",
    "plt.xlim(0,2)\n",
    "plt.show()"
   ]
  },
  {
   "cell_type": "markdown",
   "source": [
    "**Висновок**\n",
    "Як видно з графіка, що при нульовій енергії коефіцієнт відбиття барʼєру дорівнює 1, відповідно проходження – 0. Потім, починаючи з значення 0.2 коефіцієнт відбиття починає падати стрибкоподібною функцією і наближатися до 0. Коефіцієнт проходження, починаючи з 0.2 еВ починає зростати і наближається до 1. <br/>\n",
    "На другому графіку видно залежності коефіцієнтів відбиття та проходження ями. При нульовій енергії модуль коефіцієнта відбиття ями дорівнює 0.82, а проходження - 0.57. Модуль коефіцієгта відбиття ями поступово пилкоподібно зростає та наближається до 1, відповідно коефіцієнт відбиття пилкоподібно спадає до 0.\n",
    "Умовою резонансного проходження хвилі є $ E > 2V $"
   ],
   "metadata": {
    "collapsed": false,
    "pycharm": {
     "name": "#%% md\n"
    }
   }
  },
  {
   "cell_type": "markdown",
   "source": [
    "Запишемо функції для відображення графіків дійсної та уявної частини нормованого імпедансу:"
   ],
   "metadata": {
    "collapsed": false,
    "pycharm": {
     "name": "#%% md\n"
    }
   }
  },
  {
   "cell_type": "code",
   "execution_count": 400,
   "metadata": {
    "pycharm": {
     "name": "#%%\n"
    }
   },
   "outputs": [],
   "source": [
    "def rezi(E,V):\n",
    "    return np.real(zi(E,V))\n",
    "\n",
    "def imzi(E,V):\n",
    "    return np.imag(zi(E,V))"
   ]
  },
  {
   "cell_type": "code",
   "execution_count": 401,
   "metadata": {
    "pycharm": {
     "name": "#%%\n"
    }
   },
   "outputs": [],
   "source": [
    "rezivec = np.vectorize(rezi)\n",
    "imzivec = np.vectorize(imzi)"
   ]
  },
  {
   "cell_type": "code",
   "execution_count": 402,
   "metadata": {
    "pycharm": {
     "name": "#%%\n"
    }
   },
   "outputs": [],
   "source": [
    "fff = np.arange(0.001,1,0.01)\n",
    "rez_vals = rezivec(fff,Vb)\n",
    "imz_vals = imzivec(fff,Vb)\n",
    "\n",
    "rezy_vals = rezivec(fff, Vy)\n",
    "imzy_vals = imzivec(fff, Vy)"
   ]
  },
  {
   "cell_type": "markdown",
   "source": [
    "Відобразимо графіки уявної та дійсної складових імпедансу для барʼєру та ями:"
   ],
   "metadata": {
    "collapsed": false,
    "pycharm": {
     "name": "#%% md\n"
    }
   }
  },
  {
   "cell_type": "code",
   "execution_count": 403,
   "outputs": [
    {
     "data": {
      "text/plain": "<Figure size 432x288 with 2 Axes>",
      "image/png": "[encoded data removed]"
     },
     "metadata": {
      "needs_background": "light"
     },
     "output_type": "display_data"
    }
   ],
   "source": [
    "fig2, (ax3,ax4) = plt.subplots(2)\n",
    "# ax1 = plt.subplot(111)\n",
    "ax3.plot(fff, rez_vals ,label='дійсна частина, барʼєр')\n",
    "ax3.plot(fff, imz_vals, label='уявна частина, барʼєр')\n",
    "ax3.grid()\n",
    "ax3.legend()\n",
    "ax3.set_ylabel('Барʼєр')\n",
    "ax3.set_ylim(-3,5)\n",
    "ax4.plot(fff, rezy_vals, label='дійсна частина, яма')\n",
    "ax4.plot(fff, imzy_vals, label='уявна частина, яма')\n",
    "ax4.set_ylabel('Яма')\n",
    "ax4.legend()\n",
    "ax4.grid()\n",
    "ax4.set_xlabel('E, eB')\n",
    "\n",
    "plt.show()"
   ],
   "metadata": {
    "collapsed": false,
    "pycharm": {
     "name": "#%%\n"
    }
   }
  },
  {
   "cell_type": "markdown",
   "source": [
    "На даних графіках видно, що для барʼєру в діапазоні 0..0.2 еВ дійсна частина імпедансу дорівнює 0, а уявна - спадає з нескінченності до 0. Далі в діапазоні $ 0.2:\\infty  $ уявна частина барʼєру знаходиться біля нуля. В діапазоні 0.2:0.4 дійсна частина імпедансу зростає до 1 і далі знаходиться біля її рівня. Що задовольняє умові резонансного проходження хвилі, оскільки вхідний імпеданс дорівнює вхідному імпедансу середовища.\n",
    "Для ями можна побачити, що дійсна частина імпедансу має в точці 0 значення *1.04*, далі стрибкоподібно досягає максимуму 7.37 в точці 0.03 далі спадає і наближається до 1. Уявна частина в точці 0 дорівнює 2.94, далі вона спадає до значення -6.9 в точці 0.011, згодом пилкоподібно наближається до 0"
   ],
   "metadata": {
    "collapsed": false,
    "pycharm": {
     "name": "#%% md\n"
    }
   }
  },
  {
   "cell_type": "markdown",
   "source": [
    "## Висновки\n",
    "В даній роботі було побудовано модель замежевого хвилевода та проведено дослідження залежність коефіцієнта відбивання та проходження квантово-механічних барʼєру та ями. Було досліджено залежність коефіцієнта відбитя, коефіцієнта проходження, дійсної та уявної частини імпедансу квантово-механічних барʼєра та ями. Також слід зазначити, що на відмінну від попередньої моделі, тут є неперідичне чергування мінімумів та максимумів, які до того ж згасають."
   ],
   "metadata": {
    "collapsed": false,
    "pycharm": {
     "name": "#%% md\n"
    }
   }
  }
 ],
 "metadata": {
  "kernelspec": {
   "display_name": "Python 3 (ipykernel)",
   "language": "python",
   "name": "python3"
  },
  "language_info": {
   "codemirror_mode": {
    "name": "ipython",
    "version": 3
   },
   "file_extension": ".py",
   "mimetype": "text/x-python",
   "name": "python",
   "nbconvert_exporter": "python",
   "pygments_lexer": "ipython3",
   "version": "3.8.9"
  }
 },
 "nbformat": 4,
 "nbformat_minor": 1
}