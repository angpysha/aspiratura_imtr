{
 "cells": [
  {
   "cell_type": "code",
   "execution_count": 7,
   "outputs": [],
   "source": [
    "import numpy as np"
   ],
   "metadata": {
    "collapsed": false,
    "pycharm": {
     "name": "#%%\n"
    }
   }
  },
  {
   "cell_type": "code",
   "execution_count": 8,
   "outputs": [],
   "source": [
    "import sympy as sp"
   ],
   "metadata": {
    "collapsed": false,
    "pycharm": {
     "name": "#%%\n"
    }
   }
  },
  {
   "cell_type": "code",
   "execution_count": 349,
   "outputs": [
    {
     "name": "stdout",
     "output_type": "stream",
     "text": [
      "[[1.   9.97]\n",
      " [1.   5.41]\n",
      " [1.   4.34]\n",
      " [2.   0.76]\n",
      " [1.   8.11]\n",
      " [1.   1.14]\n",
      " [1.   5.76]\n",
      " [1.   0.48]\n",
      " [1.   0.98]\n",
      " [1.   1.57]\n",
      " [1.   2.01]]\n"
     ]
    }
   ],
   "source": [
    "m = np.array([1,1,1,2,1,1,1,1,1,1,1])\n",
    "l = np.array([9.97,5.41,4.34,0.76,8.11,1.14,5.76,0.48,0.98,1.57,2.01])\n",
    "#l = l*10**6\n",
    "Tzad=10**-2\n",
    "nu=1\n",
    "\n",
    "mm = np.c_[m,l]\n",
    "print(np.matrix(mm))"
   ],
   "metadata": {
    "collapsed": false,
    "pycharm": {
     "name": "#%%\n"
    }
   }
  },
  {
   "cell_type": "code",
   "execution_count": 81,
   "outputs": [
    {
     "data": {
      "text/plain": "41.29"
     },
     "execution_count": 81,
     "metadata": {},
     "output_type": "execute_result"
    }
   ],
   "source": [
    "L = np.sum(m*l)\n",
    "L"
   ],
   "metadata": {
    "collapsed": false,
    "pycharm": {
     "name": "#%%\n"
    }
   }
  },
  {
   "cell_type": "code",
   "execution_count": 82,
   "outputs": [
    {
     "data": {
      "text/plain": "0.024218939210462583"
     },
     "execution_count": 82,
     "metadata": {},
     "output_type": "execute_result"
    }
   ],
   "source": [
    "T=1/L\n",
    "gamma = 90\n",
    "T\n"
   ],
   "metadata": {
    "collapsed": false,
    "pycharm": {
     "name": "#%%\n"
    }
   }
  },
  {
   "cell_type": "code",
   "execution_count": 83,
   "outputs": [
    {
     "data": {
      "text/plain": "0.002551719923899886"
     },
     "execution_count": 83,
     "metadata": {},
     "output_type": "execute_result"
    }
   ],
   "source": [
    "Ty = -T*np.log(gamma/100)\n",
    "Ty"
   ],
   "metadata": {
    "collapsed": false,
    "pycharm": {
     "name": "#%%\n"
    }
   }
  },
  {
   "cell_type": "code",
   "execution_count": 118,
   "outputs": [],
   "source": [
    "def P(t):\n",
    "    return np.exp(-L*t)"
   ],
   "metadata": {
    "collapsed": false,
    "pycharm": {
     "name": "#%%\n"
    }
   }
  },
  {
   "cell_type": "code",
   "execution_count": 129,
   "outputs": [
    {
     "data": {
      "text/plain": "0.6617284523645529"
     },
     "execution_count": 129,
     "metadata": {},
     "output_type": "execute_result"
    }
   ],
   "source": [
    "P(Tzad)"
   ],
   "metadata": {
    "collapsed": false,
    "pycharm": {
     "name": "#%%\n"
    }
   }
  },
  {
   "cell_type": "code",
   "execution_count": 132,
   "outputs": [],
   "source": [
    "Pvec = np.vectorize(P)\n",
    "tt = np.arange(0,0.125,0.001)\n",
    "Pvals = Pvec(tt)\n"
   ],
   "metadata": {
    "collapsed": false,
    "pycharm": {
     "name": "#%%\n"
    }
   }
  },
  {
   "cell_type": "code",
   "execution_count": 329,
   "outputs": [
    {
     "data": {
      "text/plain": "<Figure size 432x288 with 1 Axes>",
      "image/png": "[encoded data removed]"
     },
     "metadata": {
      "needs_background": "light"
     },
     "output_type": "display_data"
    }
   ],
   "source": [
    "import matplotlib.pyplot as plt\n",
    "fig = plt.figure()\n",
    "ax = plt.subplot(111)\n",
    "tt1 = tt*10**6\n",
    "ax.plot(tt1,Pvals)\n",
    "ax.grid()\n",
    "plt.show()"
   ],
   "metadata": {
    "collapsed": false,
    "pycharm": {
     "name": "#%%\n"
    }
   }
  },
  {
   "cell_type": "code",
   "execution_count": 10,
   "outputs": [],
   "source": [
    "x = sp.Symbol('x')\n",
    "v = sp.integrate(x**2,(x,0,2))\n",
    "oo = sp.oo"
   ],
   "metadata": {
    "collapsed": false,
    "pycharm": {
     "name": "#%%\n"
    }
   }
  },
  {
   "cell_type": "code",
   "execution_count": 561,
   "outputs": [],
   "source": [
    "Tzad = 10**-2"
   ],
   "metadata": {
    "collapsed": false,
    "pycharm": {
     "name": "#%%\n"
    }
   }
  },
  {
   "cell_type": "code",
   "execution_count": 572,
   "outputs": [],
   "source": [
    "def F(xx):\n",
    "    return ((1/np.sqrt(2*np.pi))*sp.integrate(sp.exp(-x**2/2),(x,-oo,xx))).evalf()"
   ],
   "metadata": {
    "collapsed": false,
    "pycharm": {
     "name": "#%%\n"
    }
   }
  },
  {
   "cell_type": "code",
   "execution_count": 573,
   "outputs": [],
   "source": [
    "def Tti(k):\n",
    "    return sp.solve(sp.Eq(0.5*sp.log(x) -0.5*sp.log(2*np.pi*Tzad) + ((Tzad-x)**2)/(2*Tzad*x) - sp.log(k),0))"
   ],
   "metadata": {
    "collapsed": false,
    "pycharm": {
     "name": "#%%\n"
    }
   }
  },
  {
   "cell_type": "code",
   "execution_count": 574,
   "outputs": [],
   "source": [
    "def TTiLa(k):\n",
    "    return sp.lambdify(x, 0.5*sp.log(x) -0.5*sp.log(2*np.pi*Tzad**3) - ((Tzad-x)**2)/(2*Tzad*x) - sp.log(k),modules=['numpy'])"
   ],
   "metadata": {
    "collapsed": false,
    "pycharm": {
     "name": "#%%\n"
    }
   }
  },
  {
   "cell_type": "code",
   "execution_count": 575,
   "outputs": [
    {
     "data": {
      "text/plain": "array([0.13787102])"
     },
     "execution_count": 575,
     "metadata": {},
     "output_type": "execute_result"
    }
   ],
   "source": [
    "from scipy.optimize import fsolve\n",
    "\n",
    "perev = TTiLa(1)\n",
    "kor = fsolve(perev, 0.000001)\n",
    "kor*10**2"
   ],
   "metadata": {
    "collapsed": false,
    "pycharm": {
     "name": "#%%\n"
    }
   }
  },
  {
   "cell_type": "code",
   "execution_count": 593,
   "outputs": [
    {
     "data": {
      "text/plain": "array([0.30483352, 0.23233842, 0.21368533, 0.12911295, 0.27601748,\n       0.14246473, 0.23821965, 0.11661891, 0.13718782, 0.15501341,\n       0.16623438])"
     },
     "execution_count": 593,
     "metadata": {},
     "output_type": "execute_result"
    }
   ],
   "source": [
    "#aaaa = fsolve(aaaaa, 0.00001)\n",
    "TTiLa_vec = np.vectorize(TTiLa)\n",
    "ppp = TTiLa_vec(l)\n",
    "lmbd = lambda ss: fsolve(ss, 0.000001)\n",
    "lmbdv = np.vectorize(lmbd)\n",
    "ddddd = lmbdv(ppp)\n",
    "ddddd = ddddd*10**2\n",
    "ddddd"
   ],
   "metadata": {
    "collapsed": false,
    "pycharm": {
     "name": "#%%\n"
    }
   }
  },
  {
   "cell_type": "code",
   "execution_count": 578,
   "outputs": [
    {
     "data": {
      "text/plain": "0.046847468440959855"
     },
     "execution_count": 578,
     "metadata": {},
     "output_type": "execute_result"
    }
   ],
   "source": [
    "Tnew = 1/np.sqrt(np.sum(m*ddddd**-2))\n",
    "Tnew"
   ],
   "metadata": {
    "collapsed": false,
    "pycharm": {
     "name": "#%%\n"
    }
   }
  },
  {
   "cell_type": "code",
   "execution_count": 579,
   "outputs": [],
   "source": [
    "def TT(t):\n",
    "    return (Tnew-t)/(nu*np.sqrt(Tnew*t))"
   ],
   "metadata": {
    "collapsed": false,
    "pycharm": {
     "name": "#%%\n"
    }
   }
  },
  {
   "cell_type": "code",
   "execution_count": 580,
   "outputs": [],
   "source": [
    "def PP(t):\n",
    "    return F(TT(t))- np.exp(2/nu**2)*F(-(Tnew+t)/(nu*np.sqrt(Tnew*t)))"
   ],
   "metadata": {
    "collapsed": false,
    "pycharm": {
     "name": "#%%\n"
    }
   }
  },
  {
   "cell_type": "code",
   "execution_count": 527,
   "outputs": [
    {
     "data": {
      "text/plain": "3.86446270387518e-12",
      "text/latex": "$\\displaystyle 3.86446270387518 \\cdot 10^{-12}$"
     },
     "execution_count": 527,
     "metadata": {},
     "output_type": "execute_result"
    }
   ],
   "source": [
    "PP(0.02)"
   ],
   "metadata": {
    "collapsed": false,
    "pycharm": {
     "name": "#%%\n"
    }
   }
  },
  {
   "cell_type": "code",
   "execution_count": 587,
   "outputs": [
    {
     "name": "stderr",
     "output_type": "stream",
     "text": [
      "/var/folders/b2/yxd46zgn5rj999vr4z_vpk640000gn/T/ipykernel_35856/3935166956.py:2: RuntimeWarning: divide by zero encountered in double_scalars\n",
      "  return (Tnew-t)/(nu*np.sqrt(Tnew*t))\n"
     ]
    }
   ],
   "source": [
    "PPvec = np.vectorize(PP)\n",
    "ttt = np.arange(0,0.3,0.01)\n",
    "PPvals = PPvec(ttt)\n"
   ],
   "metadata": {
    "collapsed": false,
    "pycharm": {
     "name": "#%%\n"
    }
   }
  },
  {
   "cell_type": "code",
   "execution_count": 529,
   "outputs": [
    {
     "data": {
      "text/plain": "0",
      "text/latex": "$\\displaystyle 0$"
     },
     "execution_count": 529,
     "metadata": {},
     "output_type": "execute_result"
    }
   ],
   "source": [
    "   # PP(1)"
   ],
   "metadata": {
    "collapsed": false,
    "pycharm": {
     "name": "#%%\n"
    }
   }
  },
  {
   "cell_type": "code",
   "execution_count": 588,
   "outputs": [
    {
     "data": {
      "text/plain": "<Figure size 432x288 with 1 Axes>",
      "image/png": "[encoded data removed]"
     },
     "metadata": {
      "needs_background": "light"
     },
     "output_type": "display_data"
    }
   ],
   "source": [
    "import matplotlib.pyplot as plt\n",
    "fig = plt.figure()\n",
    "ax1 = plt.subplot(111)\n",
    "ttt1 = ttt*10**6\n",
    "ax1.plot(ttt1,PPvals)\n",
    "ax1.grid()\n",
    "ax1.set_xlabel('t,год')\n",
    "plt.show()"
   ],
   "metadata": {
    "collapsed": false,
    "pycharm": {
     "name": "#%%\n"
    }
   }
  },
  {
   "cell_type": "code",
   "execution_count": 28,
   "outputs": [
    {
     "data": {
      "text/plain": "-(-5*sqrt(2)*pi*exp(25/2)/2 - 5*sqrt(2)*pi*exp(25/2)*erf(5*sqrt(2)/2)/2)*exp(-25/2)/(5*sqrt(pi))",
      "text/latex": "$\\displaystyle - \\frac{- \\frac{5 \\sqrt{2} \\pi e^{\\frac{25}{2}}}{2} - \\frac{5 \\sqrt{2} \\pi e^{\\frac{25}{2}} \\operatorname{erf}{\\left(\\frac{5 \\sqrt{2}}{2} \\right)}}{2}}{5 \\sqrt{\\pi} e^{\\frac{25}{2}}}$"
     },
     "execution_count": 28,
     "metadata": {},
     "output_type": "execute_result"
    }
   ],
   "source": [
    "i = sp.integrate(sp.exp(-x**2/2),(x,-oo,5))\n",
    "i"
   ],
   "metadata": {
    "collapsed": false,
    "pycharm": {
     "name": "#%%\n"
    }
   }
  },
  {
   "cell_type": "code",
   "execution_count": 34,
   "outputs": [
    {
     "data": {
      "text/plain": "0.500000000000000",
      "text/latex": "$\\displaystyle 0.5$"
     },
     "execution_count": 34,
     "metadata": {},
     "output_type": "execute_result"
    }
   ],
   "source": [
    "# i.evalf()\n",
    "tt = F(0).evalf()\n",
    "tt"
   ],
   "metadata": {
    "collapsed": false,
    "pycharm": {
     "name": "#%%\n"
    }
   }
  },
  {
   "cell_type": "code",
   "execution_count": 37,
   "outputs": [
    {
     "data": {
      "text/plain": "1.50000000000000",
      "text/latex": "$\\displaystyle 1.5$"
     },
     "execution_count": 37,
     "metadata": {},
     "output_type": "execute_result"
    }
   ],
   "source": [
    "tt+1"
   ],
   "metadata": {
    "collapsed": false,
    "pycharm": {
     "name": "#%%\n"
    }
   }
  },
  {
   "cell_type": "code",
   "execution_count": 590,
   "outputs": [],
   "source": [
    "def Tlamda():\n",
    "    return sp.lambdify(x,F((x-1)/sp.sqrt(x))+np.exp(2)*F(-(x+1)/sp.sqrt(x))-1+0.9,modules=['numpy'])"
   ],
   "metadata": {
    "collapsed": false,
    "pycharm": {
     "name": "#%%\n"
    }
   }
  },
  {
   "cell_type": "code",
   "execution_count": 592,
   "outputs": [
    {
     "data": {
      "text/plain": "array([0.0001])"
     },
     "execution_count": 592,
     "metadata": {},
     "output_type": "execute_result"
    }
   ],
   "source": [
    "tl = Tlamda()\n",
    "tls = fsolve(tl, 0.0001)\n",
    "tls"
   ],
   "metadata": {
    "collapsed": false,
    "pycharm": {
     "name": "#%%\n"
    }
   }
  },
  {
   "cell_type": "code",
   "execution_count": null,
   "outputs": [],
   "source": [],
   "metadata": {
    "collapsed": false,
    "pycharm": {
     "name": "#%%\n"
    }
   }
  }
 ],
 "metadata": {
  "kernelspec": {
   "display_name": "Python 3",
   "language": "python",
   "name": "python3"
  },
  "language_info": {
   "codemirror_mode": {
    "name": "ipython",
    "version": 2
   },
   "file_extension": ".py",
   "mimetype": "text/x-python",
   "name": "python",
   "nbconvert_exporter": "python",
   "pygments_lexer": "ipython2",
   "version": "2.7.6"
  }
 },
 "nbformat": 4,
 "nbformat_minor": 0
}